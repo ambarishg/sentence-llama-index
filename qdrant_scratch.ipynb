{
 "cells": [
  {
   "cell_type": "code",
   "execution_count": 1,
   "metadata": {},
   "outputs": [
    {
     "name": "stderr",
     "output_type": "stream",
     "text": [
      "/home/azureuser/Ambarish/sentence-llama-index/.venv/lib/python3.8/site-packages/tqdm/auto.py:21: TqdmWarning: IProgress not found. Please update jupyter and ipywidgets. See https://ipywidgets.readthedocs.io/en/stable/user_install.html\n",
      "  from .autonotebook import tqdm as notebook_tqdm\n"
     ]
    }
   ],
   "source": [
    "from llama_index.vector_stores.qdrant import QdrantVectorStore\n",
    "from qdrant_client import QdrantClient\n",
    "from config import *\n",
    "from pprint import pprint"
   ]
  },
  {
   "cell_type": "code",
   "execution_count": 2,
   "metadata": {},
   "outputs": [],
   "source": [
    "from llama_index.embeddings.huggingface import HuggingFaceEmbedding"
   ]
  },
  {
   "cell_type": "code",
   "execution_count": 3,
   "metadata": {},
   "outputs": [],
   "source": [
    "client = QdrantClient(URL,port=6333)"
   ]
  },
  {
   "cell_type": "code",
   "execution_count": 4,
   "metadata": {},
   "outputs": [],
   "source": [
    "vector_store = QdrantVectorStore(client=client, collection_name=COLLECTION_NAME)"
   ]
  },
  {
   "cell_type": "code",
   "execution_count": 5,
   "metadata": {},
   "outputs": [],
   "source": [
    "import fitz"
   ]
  },
  {
   "cell_type": "code",
   "execution_count": 6,
   "metadata": {},
   "outputs": [],
   "source": [
    "doc = fitz.open(DIR_PATH + \"/Tata-Steel-Corporate-Brochure-2020-21.pdf\")"
   ]
  },
  {
   "cell_type": "code",
   "execution_count": 7,
   "metadata": {},
   "outputs": [],
   "source": [
    "from llama_index.core.node_parser import SentenceSplitter"
   ]
  },
  {
   "cell_type": "code",
   "execution_count": 8,
   "metadata": {},
   "outputs": [],
   "source": [
    "text_splitter = SentenceSplitter(\n",
    "    chunk_size=512\n",
    ")"
   ]
  },
  {
   "cell_type": "code",
   "execution_count": 9,
   "metadata": {},
   "outputs": [],
   "source": [
    "text_chunks = []\n",
    "# maintain relationship with source doc index, to help inject doc metadata in (3)\n",
    "doc_idxs = []\n",
    "for doc_idx, page in enumerate(doc):\n",
    "    page_text = page.get_text(\"text\")\n",
    "    cur_text_chunks = text_splitter.split_text(page_text)\n",
    "    text_chunks.extend(cur_text_chunks)\n",
    "    doc_idxs.extend([doc_idx] * len(cur_text_chunks))"
   ]
  },
  {
   "cell_type": "code",
   "execution_count": 10,
   "metadata": {},
   "outputs": [
    {
     "data": {
      "text/plain": [
       "56"
      ]
     },
     "execution_count": 10,
     "metadata": {},
     "output_type": "execute_result"
    }
   ],
   "source": [
    "len(doc_idxs)"
   ]
  },
  {
   "cell_type": "code",
   "execution_count": 11,
   "metadata": {},
   "outputs": [
    {
     "name": "stdout",
     "output_type": "stream",
     "text": [
      "('A vision for tomorrow \\n'\n",
      " '2\\n'\n",
      " ' \\n'\n",
      " 'Tata group overview \\n'\n",
      " '12\\n'\n",
      " ' \\n'\n",
      " 'Tata Steel group overview \\n'\n",
      " '18\\n'\n",
      " ' \\n'\n",
      " 'Tata Steel India overview \\n'\n",
      " '28\\n'\n",
      " 'A vision beyond operations \\n'\n",
      " '40\\n'\n",
      " ' \\n'\n",
      " 'Innovation \\n'\n",
      " '42\\n'\n",
      " ' \\n'\n",
      " 'Technology \\n'\n",
      " '46\\n'\n",
      " ' \\n'\n",
      " 'Sustainability \\n'\n",
      " '50\\n'\n",
      " 'Directory of group companies \\n'\n",
      " '64\\n'\n",
      " 'Disclaimer: While care has been taken to ensure that the \\n'\n",
      " 'information in the Corporate Brochure is accurate, neither Tata \\n'\n",
      " 'Steel nor its subsidiaries accept responsibility or liability for \\n'\n",
      " 'errors or information that is found to be misleading. All content \\n'\n",
      " 'published is copyright of Tata\\xa0Steel and may not be reproduced \\n'\n",
      " 'without the written permission of the publishers.\\n'\n",
      " 'Contents\\n'\n",
      " 'GAS STORAGE, PORT TALBOT')\n"
     ]
    }
   ],
   "source": [
    "pprint(text_chunks[1])"
   ]
  },
  {
   "cell_type": "code",
   "execution_count": 12,
   "metadata": {},
   "outputs": [],
   "source": [
    "from llama_index.core.schema import TextNode"
   ]
  },
  {
   "cell_type": "code",
   "execution_count": 13,
   "metadata": {},
   "outputs": [],
   "source": [
    "nodes = []\n",
    "for idx, text_chunk in enumerate(text_chunks):\n",
    "    node = TextNode(\n",
    "        text=text_chunk,\n",
    "    )\n",
    "    src_doc_idx = doc_idxs[idx]\n",
    "    src_page = doc[src_doc_idx]\n",
    "    nodes.append(node)"
   ]
  },
  {
   "cell_type": "code",
   "execution_count": 14,
   "metadata": {},
   "outputs": [],
   "source": [
    "from llama_index.llms.azure_openai import AzureOpenAI\n",
    "llm = AzureOpenAI(\n",
    "    model=\"gpt-35-turbo\",\n",
    "    deployment_name=deployment_id_gpt4,\n",
    "    api_key=key,\n",
    "    azure_endpoint=endpoint,\n",
    "    api_version=api_version,\n",
    ")"
   ]
  },
  {
   "cell_type": "code",
   "execution_count": 15,
   "metadata": {},
   "outputs": [],
   "source": [
    "from llama_index.core.extractors import (\n",
    "    QuestionsAnsweredExtractor,\n",
    "    TitleExtractor,\n",
    ")\n",
    "from llama_index.core.ingestion import IngestionPipeline\n",
    "\n",
    "extractors = [\n",
    "    TitleExtractor(nodes=5, llm=llm),\n",
    "    QuestionsAnsweredExtractor(questions=3, llm=llm),\n",
    "]"
   ]
  },
  {
   "cell_type": "code",
   "execution_count": 16,
   "metadata": {},
   "outputs": [
    {
     "name": "stderr",
     "output_type": "stream",
     "text": [
      "100%|██████████| 5/5 [00:01<00:00,  4.98it/s]\n",
      "100%|██████████| 56/56 [00:20<00:00,  2.72it/s]\n"
     ]
    }
   ],
   "source": [
    "pipeline = IngestionPipeline(\n",
    "    transformations=extractors,\n",
    ")\n",
    "nodes = await pipeline.arun(nodes=nodes, in_place=False)"
   ]
  },
  {
   "cell_type": "code",
   "execution_count": 17,
   "metadata": {},
   "outputs": [
    {
     "name": "stdout",
     "output_type": "stream",
     "text": [
      "{'document_title': '\"Advancing Innovation, Technology, and Sustainability in '\n",
      "                   'Tata Steel Group Companies: Building a Strong Foundation '\n",
      "                   'for the Future through Resilience, Resolve, and Readiness '\n",
      "                   'in Steel Structures, Landmarks, and Automotive Materials.\"',\n",
      " 'questions_this_excerpt_can_answer': '1. What are the key values and '\n",
      "                                      'priorities of Tata Steel Group '\n",
      "                                      'Companies as outlined in their FY '\n",
      "                                      '2020-21 corporate brochure?\\n'\n",
      "                                      '2. How does Tata Steel Group Companies '\n",
      "                                      'plan to advance innovation, technology, '\n",
      "                                      'and sustainability in their steel '\n",
      "                                      'structures, landmarks, and automotive '\n",
      "                                      'materials?\\n'\n",
      "                                      '3. What steps is Tata Steel Group '\n",
      "                                      'Companies taking to build a strong '\n",
      "                                      'foundation for the future and ensure '\n",
      "                                      'they are future-ready? \\n'\n",
      "                                      '\\n'\n",
      "                                      'Context summary: The excerpt is taken '\n",
      "                                      'from the corporate brochure of Tata '\n",
      "                                      'Steel Group Companies for the fiscal '\n",
      "                                      'year 2020-21. The brochure highlights '\n",
      "                                      \"the company's focus on resilience, \"\n",
      "                                      'resolve, and readiness in their '\n",
      "                                      'operations and products, with a '\n",
      "                                      'particular emphasis on advancing '\n",
      "                                      'innovation, technology, and '\n",
      "                                      'sustainability.'}\n"
     ]
    }
   ],
   "source": [
    "pprint(nodes[0].metadata)"
   ]
  },
  {
   "cell_type": "code",
   "execution_count": 18,
   "metadata": {},
   "outputs": [],
   "source": [
    "embed_model = HuggingFaceEmbedding(\n",
    "    model_name=\"sentence-transformers/all-mpnet-base-v2\", max_length=512\n",
    ")"
   ]
  },
  {
   "cell_type": "code",
   "execution_count": 19,
   "metadata": {},
   "outputs": [],
   "source": [
    "for node in nodes:\n",
    "    node_embedding = embed_model.get_text_embedding(\n",
    "        node.get_content(metadata_mode=\"all\")\n",
    "    )\n",
    "    node.embedding = node_embedding"
   ]
  },
  {
   "cell_type": "code",
   "execution_count": 20,
   "metadata": {},
   "outputs": [
    {
     "name": "stdout",
     "output_type": "stream",
     "text": [
      "TextNode(id_='7f9344f1-4d56-40d2-b5c7-de44051c367d', embedding=[0.07332110404968262, -0.01834375038743019, -0.017841346561908722, -6.164814840303734e-05, -0.011439749039709568, 0.011648415587842464, 0.03290417790412903, -0.025870459154248238, -0.054562654346227646, 0.029987089335918427, 0.03685632720589638, 0.042044639587402344, 0.026776768267154694, 0.007439950946718454, -0.017005229368805885, -0.031248535960912704, 0.0202496238052845, 0.04422365501523018, -0.01032673567533493, 0.010341097600758076, -0.06599833816289902, 0.0307069830596447, -0.002586797811090946, -0.021809523925185204, -0.011109840124845505, -0.004834817722439766, 0.009994703345000744, -0.01432375330477953, -0.008309019729495049, -0.015463868156075478, 0.0555838905274868, -0.02269810624420643, 0.006189480423927307, -0.07201331108808517, 2.0446620965230977e-06, -0.02534395456314087, -0.07320263981819153, 0.0005319679039530456, 0.04069706052541733, 0.021410314366221428, 0.00945022702217102, -0.015610123053193092, -0.062064170837402344, 0.05162207409739494, -0.029788987711071968, -0.02150742895901203, 0.021593187004327774, 0.06698895245790482, -0.01435654517263174, 0.024380318820476532, 0.0035063372924923897, -0.004218888469040394, 0.0021207944955676794, 0.0044793798588216305, -0.0533636212348938, 0.006894290447235107, -0.04638973996043205, 0.009105478413403034, 0.005182620137929916, 0.012158386409282684, 0.010857722721993923, 0.07174056768417358, -0.0068805404007434845, -0.0020731419790536165, 0.03308248892426491, -0.018114080652594566, 0.0222523994743824, -0.0635858029127121, 0.03606677055358887, -0.0009765706490725279, 0.0526479072868824, 0.006765745114535093, 0.0054199728183448315, 0.06250294297933578, -0.018703890964388847, 0.0356450192630291, 0.023247340694069862, 0.018876085057854652, -0.0269390270113945, -0.0036706002429127693, 0.03479066863656044, 0.030372897163033485, -0.003061557188630104, 0.0335812121629715, -0.004179337061941624, 0.06582162529230118, -0.044219356030225754, -0.008110316470265388, -0.03646034002304077, -0.02190111018717289, 0.018683334812521935, -0.037719473242759705, 0.00881862547248602, 0.019887153059244156, 0.031159227713942528, 0.004452229011803865, 0.010118440724909306, -0.005371544044464827, 0.030654486268758774, -0.05518646538257599, -0.03952367603778839, 0.022211996838450432, -0.02356906235218048, 0.006028341595083475, -0.0800226554274559, 0.013680379837751389, 0.02477910928428173, -0.04014681279659271, -0.06414639204740524, 0.05102017894387245, 0.024206405505537987, 3.9050817576935515e-05, -0.03853021189570427, 0.015190564095973969, -0.0063246735371649265, 0.006099584046751261, -0.012482162564992905, 0.04912574961781502, 0.03135267645120621, 0.03676043823361397, -0.03347353637218475, 0.016896817833185196, -0.043520767241716385, -0.005678317043930292, 0.025070806965231895, 0.03319261595606804, -0.0568433441221714, 0.01289980299770832, -0.03324709087610245, -0.006445168983191252, 0.006227278616279364, 0.022618426010012627, 0.007569462526589632, -0.011514081619679928, -0.010246288031339645, 0.025383800268173218, 0.007889512926340103, -0.0343630388379097, -0.05916890501976013, -0.007109547033905983, 0.017137283459305763, -0.04277531057596207, -0.03746596723794937, 0.010645772330462933, -0.01350316684693098, 0.029075322672724724, 0.01197374239563942, -0.033465150743722916, 0.031686365604400635, 0.007335713133215904, -0.009840111248195171, 0.04254872724413872, -0.05516551807522774, -0.017423102632164955, 0.0436754934489727, 0.04138127714395523, 0.06474209576845169, -0.03917638212442398, 0.005903343670070171, -0.013848083093762398, 0.04945102334022522, 0.029847193509340286, -0.03610329329967499, -0.0264082420617342, -0.04185203090310097, -0.04168323427438736, 0.034055426716804504, 0.0398465134203434, -0.06407654285430908, 0.013989625498652458, -0.00989743322134018, -0.034149814397096634, -0.005578324664384127, 0.12997764348983765, 0.036149073392152786, 0.09104834496974945, -0.004055218305438757, 0.006009599659591913, -0.07021104544401169, 0.017539767548441887, -0.0011836766498163342, -0.018957408145070076, -0.0014250772073864937, -0.028647808358073235, 0.06055581942200661, 0.07856395840644836, 0.016084909439086914, -0.018039211630821228, -0.0006757614319212735, -0.027287557721138, -0.024857977405190468, 0.041238173842430115, -0.03481164947152138, -0.00537413964048028, -0.0009752307087182999, 7.888217078289017e-05, -0.0913274884223938, -0.03131716325879097, -0.03050965815782547, -0.027644231915473938, 0.039290402084589005, -0.019645847380161285, 0.030768072232604027, -0.023612992838025093, 0.005009891465306282, 0.025666775181889534, -0.006172082386910915, -0.005352484993636608, -0.024130452424287796, 0.0033081567380577326, 0.02933322638273239, 0.03429049253463745, -0.011379224248230457, 0.002232189755886793, -0.04652407765388489, -0.00165060895960778, 0.014432769268751144, -0.00522699486464262, -0.05762640759348869, 0.0011135432869195938, -0.02499024197459221, -0.01756107248365879, -0.06677480041980743, 0.009730415418744087, 0.0625978633761406, -0.01629362441599369, -0.04834628105163574, 0.029427673667669296, -0.03530452400445938, 0.03670859336853027, -0.028177203610539436, 0.012079745531082153, 0.030931424349546432, -0.005267969332635403, -0.01682126708328724, 0.047362249344587326, 0.022955914959311485, 0.06954210996627808, -0.0102264154702425, -0.06523527950048447, -0.01693764701485634, -0.03445667773485184, 0.014156068675220013, 0.0011151812504976988, -0.021669426932930946, 0.00610822020098567, -0.01242710743099451, -0.006734267808496952, 0.0013701932039111853, -0.024289347231388092, -0.021859096363186836, -0.0276234932243824, -0.0037253096234053373, 0.011739653535187244, -0.015012572519481182, -0.005132125224918127, -0.020305974408984184, 0.04065269976854324, -0.042971812188625336, 0.015213383361697197, 0.04570335894823074, -0.02824977971613407, -0.049547091126441956, 0.03168794512748718, 0.06783201545476913, -0.05497235432267189, 0.06722495704889297, -0.040112435817718506, -0.04654576629400253, -0.012284886091947556, 0.009916267357766628, 0.019440781325101852, 0.03257390856742859, -0.026413828134536743, 0.024134498089551926, 0.04212183505296707, -0.053960170596838, 0.04678834602236748, -0.033834028989076614, 0.07307153940200806, 0.009023861959576607, 0.013003628700971603, -0.0007324023172259331, -0.0018425852758809924, 0.002339614788070321, 0.0007826600340195, 0.03222506120800972, -0.0423913300037384, -0.0365435965359211, 0.044713094830513, 0.04524241387844086, -0.04265601560473442, 0.043939895927906036, -0.031117910519242287, -0.02310558222234249, 0.04160349816083908, -0.0014619918074458838, -0.0015979346353560686, 0.024595152586698532, 0.04692315682768822, -0.051934774965047836, 0.03470046445727348, 0.05279051885008812, 0.00260859914124012, -0.0200507715344429, -6.701408710796386e-05, 0.02255960926413536, -0.018205460160970688, 0.02469620667397976, -0.059335123747587204, 0.04070248082280159, 0.0235167033970356, -0.010113987140357494, -0.034803327172994614, -0.016042165458202362, -0.03296884521842003, -0.03578842058777809, -0.04030108451843262, -0.012917514890432358, 0.14234428107738495, 0.0460052452981472, 0.0009692400344647467, -0.05053800344467163, 0.0003733665216714144, 0.042456839233636856, -0.05350906774401665, -0.02294258028268814, 0.009377425536513329, -0.042465630918741226, -0.06125335395336151, -0.0031913272105157375, 0.025031600147485733, 0.008655709214508533, -0.023374343290925026, -0.013191752135753632, 0.028144588693976402, 0.024397924542427063, 0.0006462366436608136, -0.0022030870895832777, 0.031100068241357803, -0.016228102147579193, -0.0024464719463139772, -0.007654454093426466, 0.00747967604547739, 0.03420139104127884, -0.01064205914735794, -0.03475040942430496, 0.018622832372784615, -0.04831934720277786, 0.01558348536491394, 0.033982641994953156, 0.016012093052268028, -0.04094730690121651, -0.031937550753355026, -0.021814487874507904, 0.010373632423579693, -0.023632194846868515, 0.03508467599749565, 0.01874600350856781, 0.0028603586833924055, 0.004545328672975302, 0.04725385084748268, 0.07855608314275742, 0.017040777951478958, 0.03809616342186928, 0.01459314301609993, 0.06856636703014374, 0.01577029749751091, -0.01547928061336279, -0.03838812932372093, 0.027750369161367416, 0.01760653220117092, -0.029868099838495255, 0.049521543085575104, 0.013196812011301517, 0.15460075438022614, 0.005554834380745888, -0.0067542861215770245, -0.01767643168568611, -0.021229615435004234, 0.040716752409935, -0.01344157475978136, 0.02330300398170948, 0.02781941555440426, -0.01378571055829525, 0.03648129850625992, 0.01733410358428955, -0.060500603169202805, 0.019440198317170143, 0.0147528862580657, -0.027263035997748375, -0.000967344269156456, -0.027605613693594933, 0.030553603544831276, -0.024659888818860054, 0.029459482058882713, 0.0037047637160867453, 0.04307551681995392, 0.0052348957397043705, 0.02123369835317135, 0.003563236678019166, 0.0099945655092597, 0.01649979129433632, -0.0019382706377655268, 0.03715825080871582, -0.09450371563434601, 0.08781153708696365, 0.02505785971879959, -0.020835857838392258, -0.007165243383497, 0.03503617271780968, -0.07128387689590454, 0.01345967035740614, -0.056705571711063385, -0.008626723662018776, -0.05446222797036171, -0.039567068219184875, 0.059276290237903595, 0.0377102866768837, -0.010994917713105679, -0.03663286194205284, 0.010258414782583714, 0.024894198402762413, -0.010738285258412361, 0.004841603804379702, 0.006237762980163097, 0.03143056854605675, -0.000907199748326093, -0.00195898674428463, -0.052526406943798065, -0.018067866563796997, 0.0026126038283109665, -0.04434250295162201, 0.01585967279970646, -0.03729251027107239, -0.03510129079222679, -0.039864517748355865, -0.04519757628440857, 0.07289488613605499, -0.014628761447966099, -0.04984092712402344, -0.00016073722508735955, 0.05836392566561699, -0.023716038092970848, -0.020761974155902863, -0.0016366406343877316, 0.021435348317027092, -0.023196477442979813, -0.02868163026869297, 0.04055590555071831, 0.02523251436650753, -0.08314315229654312, 0.04379785433411598, -0.015229884535074234, 0.029559949412941933, -0.04185280203819275, -0.028510000556707382, 0.010746162384748459, 0.009210612624883652, 0.018570540472865105, 0.005396164022386074, 0.005695553496479988, -0.09140349179506302, 0.03085486590862274, -0.006296512670814991, 0.10298500955104828, 0.02058195322751999, -0.11022111028432846, -0.027143947780132294, -0.031578995287418365, -0.03575911745429039, -0.02520662359893322, -0.0004885524394921958, 0.03150809556245804, 0.04491724073886871, -0.015532903373241425, -0.02067326381802559, 0.008430037647485733, 0.02196122519671917, 0.022531377151608467, 0.02840624749660492, 0.024447593837976456, -0.0039112563244998455, -0.027247462421655655, -0.021341154351830482, 0.013358401134610176, 0.05357842519879341, -0.006693782284855843, 0.01558720227330923, -0.010734143666923046, 0.012268472462892532, -0.02383580058813095, -0.051034603267908096, 0.013927201740443707, -0.025124743580818176, 0.03954312577843666, -0.01764332316815853, 0.062452010810375214, 0.01924937404692173, -0.006941814906895161, -0.025446612387895584, -0.0031980019994080067, 0.0072949957102537155, -0.009987151250243187, -0.03541141375899315, 0.007944838143885136, 0.013965785503387451, 0.05418796464800835, -0.003126282710582018, 0.002851306227967143, -0.030287258327007294, 0.027736704796552658, -0.06424970924854279, -0.06074991449713707, -0.0037939967587590218, 0.013890024274587631, -0.047940466552972794, -0.04153108596801758, -0.0178072452545166, -0.01650446467101574, -0.009529020637273788, -0.015272960998117924, 0.0031963118817657232, 0.01498524658381939, 0.005846200976520777, 0.07080081850290298, -2.412375033600256e-05, 0.003916386514902115, -0.01740846037864685, -0.011962120421230793, 0.0027837196830660105, -0.04808243736624718, 0.03961016237735748, -0.027904920279979706, -0.028457488864660263, 0.034187786281108856, -0.03406466543674469, 0.015700114890933037, 0.03466859087347984, 0.024878844618797302, -0.017939478158950806, -0.02694285847246647, 0.13042326271533966, 0.054839085787534714, 0.011379627510905266, -0.05674631893634796, -0.007993011735379696, 0.0054644932970404625, 0.058394771069288254, -0.04363495856523514, -0.03460775315761566, 0.008743535727262497, -0.022278010845184326, -0.004830740857869387, 0.01575332321226597, -9.373022407420381e-33, -0.01965438947081566, -0.030490657314658165, 0.0023239755537360907, 0.035365741699934006, -0.03901142254471779, 0.014527949504554272, -0.02958555519580841, -0.028952088207006454, -0.11639009416103363, -0.02934514917433262, -0.03374341130256653, 0.017065102234482765, 0.0393097959458828, 0.02131098508834839, 0.012656185775995255, -0.010096154175698757, -0.013709747232496738, 0.001829134882427752, -0.0054359594359993935, -0.07463362067937851, 0.030435513705015182, 0.0015589387621730566, 0.0637931376695633, 0.003987363073974848, 0.017130082473158836, -0.0060866596177220345, -0.06964394450187683, -0.003298946190625429, 0.03104059025645256, -0.013746120035648346, -0.0038270275108516216, -0.016550177708268166, -0.006700304336845875, -0.03821410983800888, 0.008482814766466618, 0.032291870564222336, -0.07635951787233353, -0.06519447267055511, 0.039436738938093185, 0.07025059312582016, -0.06506646424531937, -0.018597085028886795, -0.009864973835647106, 0.024506667628884315, 0.0012903207680210471, -0.058437690138816833, 0.00929763913154602, -0.009665572084486485, 0.016676539555191994, -0.050934918224811554, -0.05922485888004303, 0.0268293097615242, -0.04844130575656891, 0.11545083671808243, 0.01860024780035019, 0.05940195173025131, 0.044267889112234116, -0.00012026372860418633, -0.062297504395246506, -0.03380625694990158, 0.00829392671585083, 0.04842435568571091, 0.057528287172317505, -0.005088980309665203, -0.040899354964494705, -0.026016630232334137, -0.05086132884025574, -0.0018833159701898694, 0.05886678397655487, -0.012377634644508362, -0.013831051997840405, 0.04089788347482681, -0.04338857904076576, 0.0519871823489666, -0.07752079516649246, -0.014654666185379028, -0.06789474189281464, 0.012864104472100735, 0.046029817312955856, 0.0817757397890091, 0.03394743427634239, -0.01098147127777338, 0.03463534265756607, -0.015164892189204693, -0.05505494400858879, -0.0678570345044136, -0.028476418927311897, 0.02609044685959816, 0.030615320429205894, -0.030419889837503433, -0.017232397571206093, 0.08108044415712357, -0.03634432330727577, -0.008812952786684036, 0.00019031204283237457, 0.04665461182594299, -0.1061493307352066, -0.0021620301995426416, 0.005361870396882296, -0.004058473743498325, 0.016500551253557205, 0.00920711737126112, -0.029320232570171356, 0.015916014090180397, 0.041465725749731064, -0.037112560123205185, -0.005278513301163912, -0.002942754188552499, -0.13312339782714844, -0.01108767744153738, 0.023246154189109802, 0.04892970249056816, -0.021232550963759422, -0.10786595940589905, -0.026664603501558304, 0.022524720057845116, -0.008028890937566757, -0.031754180788993835, 0.018988918513059616, 0.022454749792814255, 0.03372236341238022, 0.06532086431980133, -0.013779105618596077, 0.05508612468838692, 0.0011145035969093442, 0.054889749735593796, 0.043209996074438095, 0.03136996179819107, 0.0070926109328866005, -0.030946414917707443, -0.0025631075259298086, 0.023442035540938377, 2.4379232854698785e-07, -0.012672731652855873, 0.02619865909218788, -0.004029146861284971, 0.010828180238604546, -0.029546409845352173, 0.04369214177131653, -0.013083396479487419, 0.01846093125641346, 0.03735979646444321, 0.03854900225996971, 0.05043470859527588, -0.047540947794914246, 0.004634644836187363, 0.011731566861271858, -0.019379207864403725, -0.012578153982758522, 0.0010621758410707116, -0.008118275552988052, -0.04250704124569893, -0.02089988812804222, 0.040777310729026794, 0.0020410981960594654, -0.03181973099708557, -0.002164129400625825, -0.023150842636823654, -0.005338745191693306, -0.004316140431910753, -0.06382164359092712, -0.00024127442156895995, -0.006079837679862976, -0.007512599695473909, -0.02986880950629711, -0.03113287314772606, -0.01980115845799446, -0.022183693945407867, -0.017866699025034904, 0.0179645624011755, 0.05161063000559807, 0.07352994382381439, 0.042066529393196106, -0.014894578605890274, -0.04489855468273163, -0.04380296543240547, -0.010856876149773598, 0.03700142726302147, -0.00026940120733343065, -0.0006835388485342264, 0.02427549846470356, -0.08918344974517822, 0.033154647797346115, -0.0040854038670659065, 0.03146384656429291, -0.013572996482253075, 0.05241944640874863, 0.015136579982936382, 0.025568626821041107, 0.002558557316660881, -0.0024432623758912086, 0.028807377442717552, 0.05393239110708237, -0.0266638845205307, 0.023791521787643433, -0.02501031942665577, 0.034361064434051514, 0.02697133459150791, 0.0027781729586422443, -0.03890152648091316, 7.588210998937827e-37, 0.00893160980194807, 0.0027732232119888067, 0.0073439753614366055, 0.004574254155158997, 0.022151852026581764, -0.032169122248888016, 0.022381987422704697, 0.03541276603937149, 0.0036495698150247335, -0.0419219508767128, -0.03204944729804993], metadata={'document_title': '\"Advancing Innovation, Technology, and Sustainability in Tata Steel Group Companies: Building a Strong Foundation for the Future through Resilience, Resolve, and Readiness in Steel Structures, Landmarks, and Automotive Materials.\"', 'questions_this_excerpt_can_answer': \"1. What are the key values and priorities of Tata Steel Group Companies as outlined in their FY 2020-21 corporate brochure?\\n2. How does Tata Steel Group Companies plan to advance innovation, technology, and sustainability in their steel structures, landmarks, and automotive materials?\\n3. What steps is Tata Steel Group Companies taking to build a strong foundation for the future and ensure they are future-ready? \\n\\nContext summary: The excerpt is taken from the corporate brochure of Tata Steel Group Companies for the fiscal year 2020-21. The brochure highlights the company's focus on resilience, resolve, and readiness in their operations and products, with a particular emphasis on advancing innovation, technology, and sustainability.\"}, excluded_embed_metadata_keys=[], excluded_llm_metadata_keys=[], relationships={}, text='Resilient.  \\nResolute.  \\nFuture-Ready.\\nCorporate Brochure FY 2020-21', start_char_idx=None, end_char_idx=None, text_template='[Excerpt from document]\\n{metadata_str}\\nExcerpt:\\n-----\\n{content}\\n-----\\n', metadata_template='{key}: {value}', metadata_seperator='\\n')\n"
     ]
    }
   ],
   "source": [
    "pprint(nodes[0])"
   ]
  },
  {
   "cell_type": "code",
   "execution_count": 21,
   "metadata": {},
   "outputs": [
    {
     "data": {
      "text/plain": [
       "['7f9344f1-4d56-40d2-b5c7-de44051c367d',\n",
       " '6b6d3b2a-cab5-49d2-b0cb-0a8173b12998',\n",
       " 'e13758e8-c276-42d4-ad6c-a30095f84553',\n",
       " '67382971-96a4-4ce1-8536-7935d729532d',\n",
       " '553b7616-1e0d-4c12-8455-aaf7eaa47101',\n",
       " '3c197497-2198-4eea-9a19-cd8daa0bf7ae',\n",
       " 'd06f2852-209a-42b4-a7e2-a326a50a6d56',\n",
       " '90eee11f-b46d-4d43-bce8-7aa182d8b5a9',\n",
       " 'b118e837-9ec4-4a5d-88c5-ad43fb00f026',\n",
       " '7865dbdb-4225-457d-94eb-d1a199e5467d',\n",
       " 'ac59fe0d-ae87-41db-8f53-5759795e0497',\n",
       " 'bb81bc8d-b65b-4714-8b41-a745c3d57975',\n",
       " '649a4a1e-03c7-4c8f-8f3d-0e68847b7785',\n",
       " 'f0ef648f-fedd-4d5c-90e1-9ca85c853221',\n",
       " 'd56803a9-e19b-4968-a88a-a71204d36ebe',\n",
       " '5c45c1cc-38e7-45b7-ac6c-35c30bc19c92',\n",
       " 'fbafec1b-4a95-4f8f-8c8a-9412e824d7a0',\n",
       " '3fc0cc3f-d371-4aca-bcbf-0fad7498bf5e',\n",
       " '8bf51030-9b7c-499e-8178-4923a0310896',\n",
       " 'dd237a3e-1c49-444e-b446-77fea481727e',\n",
       " '5a5e1a64-707f-47d9-90fe-d4d791c65f82',\n",
       " '3f1c5b48-40a7-400f-9cc1-2f96b123c772',\n",
       " 'e1efb5c1-68f1-4b6e-a241-02aac8bd2189',\n",
       " '219dbfb9-d866-452d-b3be-e69ab23c989a',\n",
       " 'd4fb1ef8-9402-4a92-b16e-f093d4ee2ae2',\n",
       " 'dfc5504a-f1af-44e3-9b82-a566bcb79df2',\n",
       " 'ce56c171-5243-4139-93a3-05dc4358a022',\n",
       " 'ef8a98ed-1590-4bd7-8ee7-c3baeeeceef6',\n",
       " '69e9e853-1d53-41d8-8698-3007790d9ff2',\n",
       " '6fac829e-8c3c-40b2-aa34-015cf1f92021',\n",
       " 'c4899045-d7b8-44b7-86d7-57b8bca49d19',\n",
       " '396df992-d30d-4e53-8bad-87d0d1477ad8',\n",
       " '5e276532-8dac-4a00-b151-1f40c6289bc2',\n",
       " '28706736-b462-4d16-b861-618fe885553c',\n",
       " '065f5460-d24a-453e-ab8a-f934fcc6622c',\n",
       " 'bd95e94b-5b85-4df0-b6de-1dd4cc818acd',\n",
       " 'a95639c1-b6ea-4ffc-8494-a9bf036ddc7c',\n",
       " 'a269e450-04fa-4deb-a5e9-7207b1741995',\n",
       " '6c0771cc-66c9-457e-a2c6-e042df950bab',\n",
       " '493238e0-5843-4fe0-ba68-a4bd6da7066b',\n",
       " 'ba3dd72e-2fe1-4647-9aef-e17dcf185e2c',\n",
       " '4525e57b-9b7b-48b2-976c-4f492351357a',\n",
       " '61dca20a-94b4-49fb-b2f2-7b320a9ce982',\n",
       " '8aa17696-4ed9-4c9a-b7f9-2ef235d55f7b',\n",
       " 'c8da9cd3-b5bb-44f3-b683-29c292de46f4',\n",
       " '9826b24e-656c-4e8c-9f64-3f91708182ad',\n",
       " 'a7e0d8a5-a76d-45c1-8d2c-47c8d2c8b9c5',\n",
       " '93dbe308-53cf-42bb-8216-73172761e1db',\n",
       " 'f973718a-6eba-47eb-b173-8c07a991dea8',\n",
       " '78a75308-5be3-4e7c-8f22-ed89f0b7b0cf',\n",
       " 'd7d3d324-878e-4305-8c8d-87ee36008a51',\n",
       " 'ec32f29f-2df5-42a1-ac46-4030afe381f4',\n",
       " '770a64c0-a430-4723-89b9-ff8b7aad8e00',\n",
       " 'cad12d25-51b9-46c9-8e1b-889263f82816',\n",
       " '267a150f-db61-437a-b28c-718757452da3',\n",
       " '44d872ac-68dc-4ee0-a0f0-accd359ffb59']"
      ]
     },
     "execution_count": 21,
     "metadata": {},
     "output_type": "execute_result"
    }
   ],
   "source": [
    "vector_store.add(nodes)"
   ]
  },
  {
   "cell_type": "code",
   "execution_count": 22,
   "metadata": {},
   "outputs": [],
   "source": [
    "from llama_index.core import Settings\n",
    "\n",
    "Settings.llm = llm\n",
    "Settings.embed_model = embed_model"
   ]
  },
  {
   "cell_type": "code",
   "execution_count": 23,
   "metadata": {},
   "outputs": [],
   "source": [
    "from llama_index.core  import VectorStoreIndex"
   ]
  },
  {
   "cell_type": "code",
   "execution_count": 24,
   "metadata": {},
   "outputs": [],
   "source": [
    "index = VectorStoreIndex.from_vector_store(vector_store=vector_store)"
   ]
  },
  {
   "cell_type": "code",
   "execution_count": 25,
   "metadata": {},
   "outputs": [],
   "source": [
    "query_engine = index.as_query_engine()"
   ]
  },
  {
   "cell_type": "code",
   "execution_count": 26,
   "metadata": {},
   "outputs": [],
   "source": [
    "query = \"Describe about Tata Steel Kalinganagar?\""
   ]
  },
  {
   "cell_type": "code",
   "execution_count": 27,
   "metadata": {},
   "outputs": [],
   "source": [
    "response = query_engine.query(query)"
   ]
  },
  {
   "cell_type": "code",
   "execution_count": 28,
   "metadata": {},
   "outputs": [
    {
     "name": "stdout",
     "output_type": "stream",
     "text": [
      "> Source (Doc id: d06f2852-209a-42b4-a7e2-a326a50a6d56): The world as we know it would not be the \n",
      "same without steel. From the buildings we \n",
      "work and liv...\n",
      "\n",
      "> Source (Doc id: d4fb1ef8-9402-4a92-b16e-f093d4ee2ae2): Key digital enablers\n",
      "Key operational \n",
      "highlights\n",
      "• Fastest ramp-up of \n",
      "greenfield plant\n",
      "• Fastest...\n",
      "query was: Describe about Tata Steel Kalinganagar?\n",
      "answer was: Tata Steel Kalinganagar (TSK) is the second integrated steel plant of Tata Steel in India, which manufactures high-end flat products. It covers an area of 3,000 acres and was commissioned in 2016. TSK achieved production levels at its rated capacity in less than two years and is designed to have a minimal water and carbon footprint. The plant has state-of-the-art equipment and modern facilities, which have enabled highly cost-competitive and productive plant operations. Tata Steel has initiated the next phase of capacity expansion in Kalinganagar in FY 2018-19, which includes investments in raw material capacity expansion, upstream and mid-stream facilities, infrastructure, and downstream facilities. The expansion will enable Tata Steel to produce value-added products like cold rolled galvanized and annealed products, as well as meet the requirements of automotive, general engineering, and other high-end quality product market segments. The expected completion timeline for the project is 48 months, and the cost allocation for the capacity expansion is ₹23,500 crore.\n"
     ]
    }
   ],
   "source": [
    "print(response.get_formatted_sources())\n",
    "print(\"query was:\", query)\n",
    "print(\"answer was:\", response)"
   ]
  },
  {
   "cell_type": "code",
   "execution_count": 29,
   "metadata": {},
   "outputs": [
    {
     "name": "stdout",
     "output_type": "stream",
     "text": [
      "('Tata Steel Kalinganagar (TSK) is the second integrated steel plant of Tata '\n",
      " 'Steel in India, which manufactures high-end flat products. It covers an area '\n",
      " 'of 3,000 acres and was commissioned in 2016. TSK achieved production levels '\n",
      " 'at its rated capacity in less than two years and is designed to have a '\n",
      " 'minimal water and carbon footprint. The plant has state-of-the-art equipment '\n",
      " 'and modern facilities, which have enabled highly cost-competitive and '\n",
      " 'productive plant operations. Tata Steel has initiated the next phase of '\n",
      " 'capacity expansion in Kalinganagar in FY 2018-19, which includes investments '\n",
      " 'in raw material capacity expansion, upstream and mid-stream facilities, '\n",
      " 'infrastructure, and downstream facilities. The expansion will enable Tata '\n",
      " 'Steel to produce value-added products like cold rolled galvanized and '\n",
      " 'annealed products, as well as meet the requirements of automotive, general '\n",
      " 'engineering, and other high-end quality product market segments. The '\n",
      " 'expected completion timeline for the project is 48 months, and the cost '\n",
      " 'allocation for the capacity expansion is ₹23,500 crore.')\n"
     ]
    }
   ],
   "source": [
    "pprint(str(response))"
   ]
  },
  {
   "cell_type": "code",
   "execution_count": null,
   "metadata": {},
   "outputs": [],
   "source": []
  }
 ],
 "metadata": {
  "kernelspec": {
   "display_name": "env",
   "language": "python",
   "name": "python3"
  },
  "language_info": {
   "codemirror_mode": {
    "name": "ipython",
    "version": 3
   },
   "file_extension": ".py",
   "mimetype": "text/x-python",
   "name": "python",
   "nbconvert_exporter": "python",
   "pygments_lexer": "ipython3",
   "version": "3.8.10"
  }
 },
 "nbformat": 4,
 "nbformat_minor": 2
}
