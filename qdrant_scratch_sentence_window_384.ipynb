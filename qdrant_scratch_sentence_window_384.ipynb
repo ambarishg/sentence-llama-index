{
 "cells": [
  {
   "cell_type": "code",
   "execution_count": 1,
   "metadata": {},
   "outputs": [
    {
     "name": "stderr",
     "output_type": "stream",
     "text": [
      "/home/azureuser/Ambarish/sentence-llama-index/.venv/lib/python3.10/site-packages/tqdm/auto.py:21: TqdmWarning: IProgress not found. Please update jupyter and ipywidgets. See https://ipywidgets.readthedocs.io/en/stable/user_install.html\n",
      "  from .autonotebook import tqdm as notebook_tqdm\n",
      "\u001b[32m2024-03-01 16:14:36.997\u001b[0m | \u001b[33m\u001b[1mWARNING \u001b[0m | \u001b[36mfastembed.embedding\u001b[0m:\u001b[36m<module>\u001b[0m:\u001b[36m7\u001b[0m - \u001b[33m\u001b[1mDefaultEmbedding, FlagEmbedding, JinaEmbedding are deprecated.Use from fastembed import TextEmbedding instead.\u001b[0m\n"
     ]
    }
   ],
   "source": [
    "from llama_index.vector_stores.qdrant import QdrantVectorStore\n",
    "from qdrant_client import QdrantClient\n",
    "from config import *\n",
    "from pprint import pprint"
   ]
  },
  {
   "cell_type": "code",
   "execution_count": 2,
   "metadata": {},
   "outputs": [],
   "source": [
    "from llama_index.embeddings.huggingface import HuggingFaceEmbedding"
   ]
  },
  {
   "cell_type": "code",
   "execution_count": 3,
   "metadata": {},
   "outputs": [],
   "source": [
    "client = QdrantClient(URL,port=6333)"
   ]
  },
  {
   "cell_type": "code",
   "execution_count": 4,
   "metadata": {},
   "outputs": [],
   "source": [
    "vector_store = QdrantVectorStore(client=client, collection_name=COLLECTION_NAME)"
   ]
  },
  {
   "cell_type": "code",
   "execution_count": 5,
   "metadata": {},
   "outputs": [],
   "source": [
    "from llama_index.core.node_parser import SentenceWindowNodeParser\n",
    "from llama_index.core.node_parser import SentenceSplitter\n",
    "\n",
    "# create the sentence window node parser w/ default settings\n",
    "node_parser = SentenceWindowNodeParser.from_defaults(\n",
    "    window_size=3,\n",
    "    window_metadata_key=\"window\",\n",
    "    original_text_metadata_key=\"original_text\",\n",
    ")"
   ]
  },
  {
   "cell_type": "code",
   "execution_count": 6,
   "metadata": {},
   "outputs": [],
   "source": [
    "# base node parser is a sentence splitter\n",
    "text_splitter = SentenceSplitter()"
   ]
  },
  {
   "cell_type": "code",
   "execution_count": 7,
   "metadata": {},
   "outputs": [],
   "source": [
    "from llama_index.llms.azure_openai import AzureOpenAI\n",
    "llm = AzureOpenAI(\n",
    "    model=\"gpt-35-turbo\",\n",
    "    deployment_name=deployment_id_gpt4,\n",
    "    api_key=key,\n",
    "    azure_endpoint=endpoint,\n",
    "    api_version=api_version,\n",
    ")"
   ]
  },
  {
   "cell_type": "code",
   "execution_count": 8,
   "metadata": {},
   "outputs": [
    {
     "name": "stderr",
     "output_type": "stream",
     "text": [
      "Fetching 9 files: 100%|██████████| 9/9 [00:00<00:00, 57985.77it/s]\n"
     ]
    }
   ],
   "source": [
    "from llama_index.embeddings.fastembed import FastEmbedEmbedding\n",
    "\n",
    "embed_model = FastEmbedEmbedding()"
   ]
  },
  {
   "cell_type": "code",
   "execution_count": 9,
   "metadata": {},
   "outputs": [],
   "source": [
    "from llama_index.core import Settings\n",
    "\n",
    "Settings.llm = llm\n",
    "Settings.embed_model = embed_model\n",
    "Settings.text_splitter = text_splitter"
   ]
  },
  {
   "cell_type": "code",
   "execution_count": 10,
   "metadata": {},
   "outputs": [],
   "source": [
    "from llama_index.core  import VectorStoreIndex"
   ]
  },
  {
   "cell_type": "code",
   "execution_count": 11,
   "metadata": {},
   "outputs": [],
   "source": [
    "from llama_index.core import SimpleDirectoryReader\n",
    "\n",
    "documents = SimpleDirectoryReader(\n",
    "    input_files=[DIR_PATH + \"/HIGHWAYS.pdf\"]\n",
    ").load_data()"
   ]
  },
  {
   "cell_type": "code",
   "execution_count": 12,
   "metadata": {},
   "outputs": [],
   "source": [
    "nodes = node_parser.get_nodes_from_documents(documents)"
   ]
  },
  {
   "cell_type": "code",
   "execution_count": 13,
   "metadata": {},
   "outputs": [],
   "source": [
    "for node in nodes:\n",
    "    node_embedding = embed_model.get_text_embedding(\n",
    "        node.get_content(metadata_mode=\"all\")\n",
    "    )\n",
    "    node.embedding = node_embedding"
   ]
  },
  {
   "cell_type": "code",
   "execution_count": 14,
   "metadata": {},
   "outputs": [
    {
     "data": {
      "text/plain": [
       "['6b8daccb-deba-414e-b6ce-42d72aeebf2e',\n",
       " '3d5e38af-631f-41b4-b90b-5db0a4717b48',\n",
       " '9ade507a-5f09-496e-8491-ed722d1ba47d',\n",
       " '3434bf5a-ba3b-4ec0-a462-03c6f1082b03',\n",
       " '24e8977d-156b-4eba-ac79-35b6feaaead4',\n",
       " 'edc546ba-96f6-4091-b671-2b15231837e2',\n",
       " '54fc033f-35aa-4319-b556-8e5f152f68cb',\n",
       " 'e4c84b98-ee09-414c-9643-f684a5826ffb',\n",
       " '84cb68f0-7696-49ce-b9fd-11f69e0e0ea3',\n",
       " 'ea3cc83f-ec05-4d05-abcc-10cae4d9a76a',\n",
       " '95058362-7590-4a1b-b59e-4e5d77bbbbc9',\n",
       " 'dab8e986-81c7-4ae2-b4cc-38b85c8fdf34',\n",
       " 'ebc377f1-ca49-46fb-8bf1-3b6643bb1e3d',\n",
       " '525a7897-b14a-4667-87d5-0fdf4ff0e396',\n",
       " '444447ea-e57a-4258-8a19-2f8ad80351be',\n",
       " 'e9c8dc7a-fa62-4979-9c4e-269b972d0f16',\n",
       " '87533e60-ea88-43b0-980a-c5c909b12b90',\n",
       " 'e058c64e-85a8-4204-936c-ec1c5a6e5a59',\n",
       " '287eb93f-03ae-48eb-9f70-3c4745af4238',\n",
       " '85977926-34c9-4fe2-9b19-407fdf263bad',\n",
       " 'b6f3bfbd-a1cf-47b3-b673-ab492d5b46df',\n",
       " '7096cab6-4c33-4f90-9c5c-b220980e8018',\n",
       " 'cb814de1-611d-48ce-9812-2ea2bc702b8f',\n",
       " 'd487baec-9126-4fb5-a732-db0ff7cdff2d',\n",
       " '2cc5cbc6-ac24-4a8a-be32-b142240a4982',\n",
       " '8319acd8-3e7f-4e7e-b248-2292f6953a11',\n",
       " '644d01fe-d54b-420d-a029-7a31bfdf7a4c',\n",
       " '30569db6-5a47-4a9d-b650-28a084f2b4a3',\n",
       " '216cf91d-0506-429a-b1ff-766df7bc6f42',\n",
       " '7e1b08c1-63a9-4363-b63c-3e0e9caf5161',\n",
       " '75bd4d14-70dd-44f0-bfb0-8445a307e7f3',\n",
       " '9a037d3c-1f66-4f01-8141-c62b2a8e6c26',\n",
       " '5aadfb8a-fe3d-4062-bf83-222ecfe754b7',\n",
       " 'c725ba9a-4c59-4162-a9d5-e0ea396fff6e',\n",
       " 'a853f1e1-3042-44dc-9322-ec29c2446997',\n",
       " 'e78ce740-17d7-4f6d-8b26-98eb6b246576',\n",
       " 'ca29d308-2f30-421f-8ecb-75e7e533e58b',\n",
       " '02436ae0-4578-4046-a82b-8cc3cf7bbbdb',\n",
       " '7a12bdf6-f4f5-45b0-926c-74f240c60906',\n",
       " 'f7712a13-3984-4ac1-9148-c1c97bc84f03',\n",
       " 'f476f893-b7ea-4f58-8147-27f2816294c8',\n",
       " 'c533cf87-6dd3-49c6-8056-fa7ebed6ad0d',\n",
       " '9515e2e6-e3c8-406c-8c90-1c6aa97211c6',\n",
       " '37c42085-af34-483e-93f4-fc794f26b8fb',\n",
       " '0d28ecdb-bd6e-4ca0-8db9-9a5c7b96cec1',\n",
       " '720b4c26-f66e-42f0-9b5a-acdbb3a2f3e7',\n",
       " 'd0852d05-f907-4747-99f4-5a645530e4e6',\n",
       " 'ee341666-a608-4eb8-9092-4a7c27f3da52',\n",
       " '3a155298-29d9-4f36-9bf2-186dff30ff44',\n",
       " '3605378a-3ae9-4551-9421-3772c1bece4c',\n",
       " '746638d8-0d96-4e09-a5cb-1fe3dddcad08',\n",
       " '80840969-f494-4e3a-a613-884cab7ca117',\n",
       " 'a698deb2-93cd-4067-80b2-17dd3049c630',\n",
       " '0601de44-909a-429d-a8a0-a1e2d09b4dea',\n",
       " '0665eb02-4a03-4e73-8d44-cc3fe0e56d58',\n",
       " '2cb1e1a7-c0e1-479f-bde7-6593c4016718',\n",
       " 'd8bc3733-c8d6-4993-bc73-b22905e8ac8f',\n",
       " '5a35edcb-1ca5-4791-bc95-0382b11ec34f',\n",
       " 'f8c46738-cc32-4bc9-a141-2bbd213f451b',\n",
       " '0f23512a-5496-47f1-94bb-c808477851e2',\n",
       " 'f6278c11-b5cc-41f5-91d1-98fa7d07f77a',\n",
       " '183324b1-4506-4127-8125-5bff9988039a',\n",
       " '0764955d-aa50-46d7-be5c-db5783766dff',\n",
       " '82934778-84d2-4422-81e1-4c3c916c58a7',\n",
       " '55d55b8b-3ba8-4ba5-9a19-23a62ec9ef43',\n",
       " 'da4f9855-4e0b-41de-be90-4764b9e86e6b',\n",
       " '2b176c4a-ffe8-404d-8a13-f059b68fea7e',\n",
       " '6fd5ffd8-7060-4af4-8311-7be9b48f1d9d',\n",
       " '57103dfc-bb74-4c04-983c-a48872994795',\n",
       " '9e0c861e-38d1-405b-a950-6b1a1b3d2bb3',\n",
       " 'ea279e9a-3ee1-4bea-901a-ff2dc23a10ff',\n",
       " 'c8b688fb-48b2-43e3-91ed-1a850ba5bdfd',\n",
       " 'b387ef39-54f0-4e6a-9c28-447c54abfa9c',\n",
       " '064480f5-1417-41c9-8d27-e676db8dcb90',\n",
       " 'abe56e90-72b4-4322-8191-f2435d81b406',\n",
       " '3235a045-7cfc-4b08-8c5a-57b46889b101',\n",
       " 'db96416f-1df6-446f-a450-cadc6e49f36d',\n",
       " '6057afef-ec2a-4c8b-85d5-151adb16ff92',\n",
       " '05ab71a3-aab4-4cd8-aae8-f3b3e16fbe84',\n",
       " 'f930158e-4213-4baf-a365-50e1dbc20a47',\n",
       " 'd3ed4739-285d-499d-b4f2-7bc8a336b84c',\n",
       " '34658dec-264a-4233-ad81-985c9c6eb821',\n",
       " 'a0ba2fa4-525e-43a0-bed4-eaf816254b4f',\n",
       " 'ca45616b-4a16-4144-ab8f-2c1135b7fbed',\n",
       " '8c3de26d-6638-4672-bd1e-0173506506d8',\n",
       " 'd92b2be1-2a0f-4f8a-982f-f2c57a75000a',\n",
       " 'a6a0b78b-b9ce-44f1-b6dd-a8b5faebd769',\n",
       " '75c9f68f-6744-4404-aecd-b87f9244bd94',\n",
       " '0bba453f-fad8-476a-80be-8e97fbae4142',\n",
       " '9d1d941d-8d00-4c15-856b-2875431486f2',\n",
       " '3e71e0cd-3f5d-442b-837a-7e7ce73a0a05',\n",
       " '0fd4207f-01d3-4c12-9caa-6640b7e6b54e',\n",
       " 'a8c211c7-bdd5-434a-bdcd-7ee7ed0437d9',\n",
       " 'e496830d-4115-4e8f-848f-7a59cb6fad0a',\n",
       " '2dd93bd5-a590-4a0d-a691-f4bc2064ffa4',\n",
       " '3ed055a6-25f6-4f2f-ab68-1eb594a64186',\n",
       " '2cf90ea0-14de-4903-b30a-5caec292ca7a',\n",
       " 'a320206c-24fb-4792-bdbe-5187a53671c4',\n",
       " '253bed79-7b15-4c1a-90aa-669a2a751b1e',\n",
       " 'bfe21fa9-465a-4d92-9e14-95c053c17adb',\n",
       " 'de107f9f-253f-4afd-84d0-6a2073a9a923',\n",
       " '0172870e-9f20-4189-8b6b-0e738e6325f5',\n",
       " 'cdf08b70-7bb1-428d-bacc-508a0c2af4ca',\n",
       " '7c02ac6a-2604-45f0-80f1-0465b1114c56',\n",
       " '2e257831-083a-4668-a1af-ce7c0c460621',\n",
       " 'cf901634-7e0f-4a6d-87c0-b3683163442b',\n",
       " 'fd736fcc-bcb2-4401-ad6f-f58b5b0d3412',\n",
       " '55fb0b90-f266-4700-866a-9977e6a2c119',\n",
       " '209f8883-2855-40e4-acb6-6aec94249daf',\n",
       " '0869a20a-9396-40ab-921e-fbe073534219',\n",
       " 'cfe57524-2192-4352-acfa-66b75743d1a5',\n",
       " '5a7a1f19-0ff0-4a55-9425-74d6c51ef051',\n",
       " '86faacb5-aea6-45fe-bbf2-5b8fcb3bd6d9',\n",
       " '330eb876-d772-4096-b071-02bca78bfa20',\n",
       " '5e6916f4-4ece-401c-81c3-1c3ca2b58223',\n",
       " '30ee013b-4c07-482f-96af-e0ca16415dff',\n",
       " 'ead2f3f1-9dba-4847-9bea-9b2634b0d38a',\n",
       " '464bcfc8-2646-4d4a-b907-a6dc2b258523',\n",
       " '9bb100bf-40e2-439a-97d1-e0c12cd1836b',\n",
       " '41c76035-8eb7-41fe-a3ca-ef09855b5865',\n",
       " 'bf8d9237-9ff4-4a54-a420-ae7c0f5ca26a',\n",
       " '9dbe8f2c-d311-4a1d-80e5-a06cc960f772',\n",
       " '0ff1d3ce-ce64-4d20-9ae8-fcdcfaac1218',\n",
       " 'c08dc369-1dae-43b6-820c-3198e33d9c9c',\n",
       " '4f5551b3-e549-42f5-aa8f-c8945e6b746a',\n",
       " 'dfe597d8-a52c-4882-8cca-cf305a01460e',\n",
       " '2c9727db-d48c-4156-9020-5bc9d23e7686',\n",
       " 'cae160cd-8dfb-45eb-83b0-7c92dcc0880d',\n",
       " 'a9562219-8ab0-43f2-9711-cbda9010bf47',\n",
       " '6bd03a14-f1fd-43d1-b9dd-4a81f1c0a696',\n",
       " 'b2d089e8-c45b-4653-95d4-31f3bf97e6b4',\n",
       " '35727e7f-6cc4-4b39-a792-7ec3ebdb418e']"
      ]
     },
     "execution_count": 14,
     "metadata": {},
     "output_type": "execute_result"
    }
   ],
   "source": [
    "vector_store.add(nodes)"
   ]
  },
  {
   "cell_type": "code",
   "execution_count": 15,
   "metadata": {},
   "outputs": [],
   "source": [
    "from llama_index.core  import VectorStoreIndex"
   ]
  },
  {
   "cell_type": "code",
   "execution_count": 16,
   "metadata": {},
   "outputs": [],
   "source": [
    "sentence_index = VectorStoreIndex.from_vector_store(vector_store=vector_store)"
   ]
  },
  {
   "cell_type": "code",
   "execution_count": 17,
   "metadata": {},
   "outputs": [],
   "source": [
    "from llama_index.core.postprocessor import MetadataReplacementPostProcessor\n",
    "\n",
    "query_engine = sentence_index.as_query_engine(\n",
    "    similarity_top_k=2,\n",
    "    # the target key defaults to `window` to match the node_parser's default\n",
    "    node_postprocessors=[\n",
    "        MetadataReplacementPostProcessor(target_metadata_key=\"window\")\n",
    "    ],\n",
    ")"
   ]
  },
  {
   "cell_type": "code",
   "execution_count": 21,
   "metadata": {},
   "outputs": [],
   "source": [
    "#query = \"Describe about Tata Steel Kalinganagar?\"\n",
    "query = \"What should the government do about road safety?\"\n",
    "query = \"What is the Golden Quadrilateral ?\""
   ]
  },
  {
   "cell_type": "code",
   "execution_count": 22,
   "metadata": {},
   "outputs": [],
   "source": [
    "response = query_engine.query(query)"
   ]
  },
  {
   "cell_type": "code",
   "execution_count": 23,
   "metadata": {},
   "outputs": [
    {
     "name": "stdout",
     "output_type": "stream",
     "text": [
      "('There is no information provided in the given context about the Golden '\n",
      " 'Quadrilateral.')\n"
     ]
    }
   ],
   "source": [
    "pprint(response.response)"
   ]
  },
  {
   "cell_type": "code",
   "execution_count": null,
   "metadata": {},
   "outputs": [],
   "source": []
  }
 ],
 "metadata": {
  "kernelspec": {
   "display_name": ".venv",
   "language": "python",
   "name": "python3"
  },
  "language_info": {
   "codemirror_mode": {
    "name": "ipython",
    "version": 3
   },
   "file_extension": ".py",
   "mimetype": "text/x-python",
   "name": "python",
   "nbconvert_exporter": "python",
   "pygments_lexer": "ipython3",
   "version": "3.10.13"
  }
 },
 "nbformat": 4,
 "nbformat_minor": 2
}
